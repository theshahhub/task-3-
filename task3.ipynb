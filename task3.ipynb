{
 "cells": [
  {
   "cell_type": "code",
   "execution_count": 1,
   "id": "c4cefda7",
   "metadata": {},
   "outputs": [],
   "source": [
    "import cv2\n",
    "import numpy as np"
   ]
  },
  {
   "cell_type": "code",
   "execution_count": 2,
   "id": "08464b61",
   "metadata": {},
   "outputs": [],
   "source": [
    "img = cv2.imread(\"C:\\\\Users\\\\aedpu\\\\OneDrive\\\\Pictures\\\\color.jpg\")"
   ]
  },
  {
   "cell_type": "code",
   "execution_count": 3,
   "id": "3ff69417",
   "metadata": {},
   "outputs": [],
   "source": [
    "color = cv2.bilateralFilter(img,9,250,250)"
   ]
  },
  {
   "cell_type": "code",
   "execution_count": 5,
   "id": "58467393",
   "metadata": {},
   "outputs": [],
   "source": [
    "gray = cv2.cvtColor(img, cv2.COLOR_BGR2GRAY)\n",
    "gray = cv2.medianBlur(gray, 5)"
   ]
  },
  {
   "cell_type": "code",
   "execution_count": 6,
   "id": "d6272e2d",
   "metadata": {},
   "outputs": [],
   "source": [
    "edges = cv2.adaptiveThreshold(gray, 255, cv2.ADAPTIVE_THRESH_MEAN_C,cv2.THRESH_BINARY,9,9)"
   ]
  },
  {
   "cell_type": "code",
   "execution_count": 7,
   "id": "9882e4b3",
   "metadata": {},
   "outputs": [],
   "source": [
    "cartoon = cv2.bitwise_and(color, color,mask=edges)"
   ]
  },
  {
   "cell_type": "code",
   "execution_count": 10,
   "id": "a5a1f7fc",
   "metadata": {},
   "outputs": [],
   "source": [
    "cv2.imshow(\"cartoon\",cartoon)\n",
    "cv2.imshow(\"Orginal\",img)\n",
    "cv2.imshow(\"drawing\",edges)\n",
    "cv2.waitKey(0)\n",
    "cv2.destroyAllWindows()"
   ]
  },
  {
   "cell_type": "code",
   "execution_count": null,
   "id": "77201bcb",
   "metadata": {},
   "outputs": [],
   "source": []
  }
 ],
 "metadata": {
  "kernelspec": {
   "display_name": "Python 3 (ipykernel)",
   "language": "python",
   "name": "python3"
  },
  "language_info": {
   "codemirror_mode": {
    "name": "ipython",
    "version": 3
   },
   "file_extension": ".py",
   "mimetype": "text/x-python",
   "name": "python",
   "nbconvert_exporter": "python",
   "pygments_lexer": "ipython3",
   "version": "3.9.17"
  }
 },
 "nbformat": 4,
 "nbformat_minor": 5
}
